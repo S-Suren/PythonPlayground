{
 "cells": [
  {
   "cell_type": "markdown",
   "metadata": {
    "toc": "true"
   },
   "source": [
    "# Table of Contents\n",
    " <p><div class=\"lev1 toc-item\"><a href=\"#Analysis-of-dice-rolls.\" data-toc-modified-id=\"Analysis-of-dice-rolls.-1\"><span class=\"toc-item-num\">1&nbsp;&nbsp;</span>Analysis of dice rolls.</a></div><div class=\"lev1 toc-item\"><a href=\"#Playing-with-Widgets\" data-toc-modified-id=\"Playing-with-Widgets-2\"><span class=\"toc-item-num\">2&nbsp;&nbsp;</span>Playing with Widgets</a></div>"
   ]
  },
  {
   "cell_type": "markdown",
   "metadata": {},
   "source": [
    "# Analysis of dice rolls."
   ]
  },
  {
   "cell_type": "code",
   "execution_count": 6,
   "metadata": {
    "ExecuteTime": {
     "end_time": "2017-01-16T01:49:04.444812",
     "start_time": "2017-01-16T01:49:04.439809"
    },
    "collapsed": false
   },
   "outputs": [],
   "source": [
    "import numpy as np\n",
    "import seaborn as sns\n",
    "import matplotlib.pyplot as plt\n",
    "\n",
    "from ipywidgets import widgets, interact"
   ]
  },
  {
   "cell_type": "raw",
   "metadata": {},
   "source": []
  },
  {
   "cell_type": "markdown",
   "metadata": {},
   "source": [
    "- Create a dice.\n",
    "    - Default: 6 side, but can be n > 2 sides.\n",
    "    - Output: An `Int`\n",
    "- Create a Trial\n",
    "    - Default: 100 rolls, but can be n.\n",
    "    - Output:\n",
    "        - rollsList: Array with all of the roll results.\n",
    "        - cumltList: Array with the cumulative probability."
   ]
  },
  {
   "cell_type": "code",
   "execution_count": 2,
   "metadata": {
    "ExecuteTime": {
     "end_time": "2017-01-16T01:44:18.044365",
     "start_time": "2017-01-16T01:44:17.976820"
    },
    "collapsed": false
   },
   "outputs": [],
   "source": [
    "def dice(num_of_sides = 6, loaded_num = 1, loaded_weight = 1):\n",
    "    '''\n",
    "    Virtual dice with output of a side. Default is an equally weighted dice. \n",
    "    Input:\n",
    "         num_of_sides: Number of sides for the dice. (Default = 6)\n",
    "         loaded_num  : The number that is biased or \"loaded\". (Default = 1)\n",
    "         loaded_wght : Number used to get loaded weight. (Default = 1)\n",
    "                       For equal weight distribution, the loaded number has\n",
    "                       the same probability as any other dice number. (1/6, 1/3,..., 1/n) \n",
    "    \n",
    "    Output: Int value corresponding to a side of the dice.\n",
    "    \n",
    "    Example:\n",
    "        [dice(10, 7, 9) for output in range(20)] -> [7, 7, 7, 3, 7, 7, 7, 7, 7, 7, 7, 8, 7, 7, 7, 7, 1, 7, 7, 7]\n",
    "        [dice(6, 5, 3) for output in range(20)] -> [5, 5, 6, 5, 6, 5, 2, 6, 5, 2, 4, 6, 6, 5, 2, 3, 5, 5, 6, 5]\n",
    "    '''\n",
    "    \n",
    "    if loaded_num > num_of_sides:\n",
    "        raise ValueError('The loaded number chosen is greater than the total number of sides on the dice!')\n",
    "    elif loaded_weight > num_of_sides:\n",
    "        raise ValueError('The loaded weight chosen is greater than the total number of sides on the dice!')\n",
    "    elif num_of_sides < 1:\n",
    "        raise ValueError('Total number of sides is less than one!')\n",
    "            \n",
    "    sides = [num for num in range(1, num_of_sides+1)]\n",
    "    return np.random.choice(sides, p=wght(num_of_sides, loaded_num, loaded_weight))\n",
    "\n",
    "\n",
    "def wght(num_of_sides = 6, loaded_num = 1, loaded_weight = 1):\n",
    "    '''\n",
    "     Weight function for the probabilities of a side on a roll.\n",
    "     Input:\n",
    "         num_of_sides: Number of sides for the dice. (Default = 6)\n",
    "         loaded_num  : The number that is biased or \"loaded\". (Default = 1)\n",
    "         loaded_wght : Number used to get loaded weight. (Default = 1)\n",
    "                       For equal weight distribution, the loaded number has\n",
    "                       the same probability as any other dice number. (1/6, 1/3,..., 1/n)\n",
    "     \n",
    "     Output: List of corresponding weights for each side.\n",
    "     \n",
    "     Example:\n",
    "         Dice with 10 sides, loaded number to be 4, and the loaded weight to be \n",
    "         the chance of 3/10(rather than 1/10): \n",
    "         \n",
    "         wght(10, 4, 3) -> [0.07777777777777778, 0.07777777777777778, 0.07777777777777778,\n",
    "                            0.3,0.07777777777777778, 0.07777777777777778, 0.07777777777777778, 0.07777777777777778,\n",
    "                            0.07777777777777778, 0.07777777777777778]\n",
    "    '''\n",
    "    \n",
    "    if loaded_weight == 1:\n",
    "        return [1/num_of_sides]*len(range(num_of_sides))\n",
    "    \n",
    "    ld_wght = loaded_weight/num_of_sides\n",
    "    wght_list = [(1-ld_wght)/(num_of_sides-1)]*len(range(num_of_sides))\n",
    "    wght_list[loaded_num-1] = ld_wght\n",
    "    \n",
    "    return wght_list\n",
    "\n",
    "\n",
    "def trials(num_of_trials=100, num_of_sides=6, loaded_num=1, loaded_weight=1):\n",
    "    '''\n",
    "    Trials consisting of a specified number of time the dice will be rolled. Output gives\n",
    "    a list of all the rolled values and a list of cumulative proportion per roll.\n",
    "    \n",
    "    Input:\n",
    "         num_of_trials: Number of rolls. (Default = 100)\n",
    "         num_of_sides : Number of sides for the dice. (Default = 6)\n",
    "         loaded_num   : The number that is biased or \"loaded\". (Default = 1)\n",
    "         loaded_wght  : Number used to get loaded weight. (Default = 1)\n",
    "                       For equal weight distribution, the loaded number has\n",
    "                       the same probability as any other dice number. (1/6, 1/3,..., 1/n)\n",
    "    Output: (In this order.)\n",
    "         rollsList: List of rolled values. Length equal to the num_of_trials input.\n",
    "         cumltList: List of cumulative proportion per roll. \n",
    "    '''\n",
    "\n",
    "    sides = list(range(1, num_of_sides+1))\n",
    "    rollsList = []\n",
    "    \n",
    "    cumltList = [[] for side in range(num_of_sides)]\n",
    "    cumlt     = [0 for side in range(num_of_sides)]\n",
    "    \n",
    "    for trial in range(num_of_trials):\n",
    "        roll = dice(num_of_sides, loaded_num, loaded_weight)\n",
    "        rollsList.append(roll)\n",
    "        \n",
    "        for side in sides:\n",
    "            if roll == side:\n",
    "                cumlt[side-1] += 1\n",
    "                \n",
    "            cumltList[side-1].append(cumlt[side-1]/(trial+1))\n",
    "            \n",
    "    return rollsList, cumltList\n"
   ]
  },
  {
   "cell_type": "code",
   "execution_count": 32,
   "metadata": {
    "ExecuteTime": {
     "end_time": "2017-01-16T02:19:38.128722",
     "start_time": "2017-01-16T02:19:38.105207"
    },
    "code_folding": [],
    "collapsed": false,
    "scrolled": false
   },
   "outputs": [],
   "source": [
    "def simu_dice(num_of_trials = 100, num_of_sides = 6, loaded_num = 1, loaded_wght = 1, \\\n",
    "              plt_style = 'seaborn-ticks', cuml_tot = True, ret = False):\n",
    "    rolls, cuml = trials(num_of_trials, num_of_sides, loaded_num, loaded_wght)\n",
    "\n",
    "    plt.style.use(style=plt_style) \n",
    "    \n",
    "    if cuml_tot is True:\n",
    "        for side in cuml:\n",
    "            ax = plt.plot(np.array([num+1 for num in range(len(rolls))]), np.array(side), \\\n",
    "                          label = 'Side {}'.format(cuml.index(side) + 1))    \n",
    "    else:\n",
    "        ax = plt.plot(np.array([num+1 for num in range(len(rolls))]), np.array(cuml[loaded_num-1]), \\\n",
    "                          label = 'Side {}'.format(cuml.index(cuml[loaded_num-1]) + 1))\n",
    "        \n",
    "        \n",
    "    ax = plt.plot([num+1 for num in range(len(rolls))], np.array([1/num_of_sides]*len(rolls)), \\\n",
    "                       color = 'k', linewidth = 2, label = 'Theoretical Probability')\n",
    "    ax = plt.title(plt_style)\n",
    "    ax = plt.legend()\n",
    "    ax = plt.ylim(0.0, 1.0)\n",
    "    ax = plt.xlabel('# of Trials')\n",
    "    ax = plt.ylabel('Cumulative Proportions')\n",
    "    \n",
    "    plt.show()\n",
    "    \n",
    "    if ret is True:\n",
    "        return rolls, cuml"
   ]
  },
  {
   "cell_type": "code",
   "execution_count": 33,
   "metadata": {
    "ExecuteTime": {
     "end_time": "2017-01-16T02:19:46.655223",
     "start_time": "2017-01-16T02:19:46.249454"
    },
    "collapsed": false
   },
   "outputs": [
    {
     "data": {
      "image/png": "[encoded data removed]",
      "text/plain": [
       "<matplotlib.figure.Figure at 0x254a9684a58>"
      ]
     },
     "metadata": {},
     "output_type": "display_data"
    }
   ],
   "source": [
    "\n",
    "\n",
    "interact(simu_dice, \\\n",
    "        num_of_sides  = widgets.IntSlider(6, 1, 25, 1)                                 ,\\\n",
    "        num_of_trials = widgets.IntSlider(100, 0, 100000, 100)                         ,\\\n",
    "        loaded_num    = widgets.IntSlider(1, 1, num_of_sides.max, 1)                   ,\\\n",
    "        loaded_wght   = widgets.IntSlider(1, 1, num_of_sides.max, 1)                   ,\\\n",
    "        plt_style     = tuple(style for style in plt.style.available) ,\\\n",
    "        cuml_tot      = True                                          ,\\\n",
    "        ret           = widgets.fixed(False)\n",
    "        );"
   ]
  },
  {
   "cell_type": "code",
   "execution_count": 25,
   "metadata": {
    "ExecuteTime": {
     "end_time": "2017-01-16T02:08:23.390606",
     "start_time": "2017-01-16T02:08:23.378096"
    },
    "collapsed": false
   },
   "outputs": [
    {
     "data": {
      "text/plain": [
       "3"
      ]
     },
     "execution_count": 25,
     "metadata": {},
     "output_type": "execute_result"
    }
   ],
   "source": [
    "ro, cu = trials()\n",
    "loaded_num = 4\n",
    "\n",
    "#ax = plt.plot(np.array([num+1 for num in range(len(ro))]), np.array(cu[loaded_num-1]),    \\\n",
    "#              label = 'Side {}'.format(cu.index(loaded_num-1) + 1))\n",
    "np.array([num+1 for num in range(len(ro))])\n",
    "np.array(cu[loaded_num-1])\n",
    "cu.index(cu[loaded_num-1])"
   ]
  },
  {
   "cell_type": "markdown",
   "metadata": {},
   "source": [
    "# Playing with Widgets"
   ]
  },
  {
   "cell_type": "code",
   "execution_count": null,
   "metadata": {
    "ExecuteTime": {
     "end_time": "2017-01-15T16:41:58.538197",
     "start_time": "2017-01-15T16:41:58.534694"
    },
    "collapsed": false
   },
   "outputs": [],
   "source": [
    "from ipywidgets import widgets\n",
    "from ipywidgets import interact\n",
    "from IPython.display import display"
   ]
  },
  {
   "cell_type": "code",
   "execution_count": null,
   "metadata": {
    "ExecuteTime": {
     "end_time": "2017-01-15T16:32:59.274103",
     "start_time": "2017-01-15T16:32:59.261093"
    },
    "collapsed": false
   },
   "outputs": [],
   "source": [
    "text = widgets.Text()\n",
    "display(text)\n",
    "\n",
    "def handle_submit(sender):\n",
    "    print('Butters')\n",
    "    \n",
    "text.on_submit(handle_submit)"
   ]
  },
  {
   "cell_type": "code",
   "execution_count": null,
   "metadata": {
    "ExecuteTime": {
     "end_time": "2017-01-15T16:38:05.685877",
     "start_time": "2017-01-15T16:38:05.673369"
    },
    "collapsed": false
   },
   "outputs": [],
   "source": [
    "button = widgets.Button(description = 'Click me!')\n",
    "display(button)\n",
    "\n",
    "def on_button_click(b):\n",
    "    print('Button clicked!')\n",
    "    \n",
    "button.on_click(on_button_click)"
   ]
  },
  {
   "cell_type": "code",
   "execution_count": null,
   "metadata": {
    "ExecuteTime": {
     "end_time": "2017-01-15T17:57:19.287223",
     "start_time": "2017-01-15T17:57:19.163140"
    },
    "collapsed": false
   },
   "outputs": [],
   "source": [
    "def f(x, y):\n",
    "    print(x)\n",
    "    print(y)\n",
    "    \n",
    "sld = interact(f, x=100, y=50)\n",
    "chk = interact(f, x=True, y=False)\n",
    "txt = interact(f, x='Suren', y='Butters') "
   ]
  },
  {
   "cell_type": "code",
   "execution_count": null,
   "metadata": {
    "ExecuteTime": {
     "end_time": "2017-01-15T17:20:16.493538",
     "start_time": "2017-01-15T17:20:16.482031"
    },
    "collapsed": true
   },
   "outputs": [],
   "source": [
    "outputText = widgets.Text()\n",
    "outputText"
   ]
  },
  {
   "cell_type": "code",
   "execution_count": null,
   "metadata": {
    "ExecuteTime": {
     "end_time": "2017-01-15T17:21:48.104109",
     "start_time": "2017-01-15T17:21:48.089600"
    },
    "collapsed": true
   },
   "outputs": [],
   "source": [
    "inputText = widgets.Text()\n",
    "\n",
    "def makeUpperCase(sender):\n",
    "    outputText.value = inputText.value.upper()\n",
    "    \n",
    "inputText.on_submit(makeUpperCase)\n",
    "inputText"
   ]
  },
  {
   "cell_type": "code",
   "execution_count": null,
   "metadata": {
    "ExecuteTime": {
     "end_time": "2017-01-15T21:11:07.347061",
     "start_time": "2017-01-15T21:11:07.082386"
    },
    "collapsed": false
   },
   "outputs": [],
   "source": [
    "t = np.arange(0.0, 1.1, .01)\n",
    "\n",
    "def pltSin(A, f):\n",
    "    plt.plot(t, A*np.sin(2*np.pi*t*f))\n",
    "    plt.axis([0, 1, -10, 10])\n",
    "    plt.autoscale(False)\n",
    "    plt.show()\n",
    "\n",
    "\n",
    "interact(pltSin, A = widgets.IntSlider(1, 0, 10, 1), f = widgets.FloatSlider(1, min=0, max=10, step=1))"
   ]
  }
 ],
 "metadata": {
  "anaconda-cloud": {},
  "kernelspec": {
   "display_name": "Python [default]",
   "language": "python",
   "name": "python3"
  },
  "language_info": {
   "codemirror_mode": {
    "name": "ipython",
    "version": 3
   },
   "file_extension": ".py",
   "mimetype": "text/x-python",
   "name": "python",
   "nbconvert_exporter": "python",
   "pygments_lexer": "ipython3",
   "version": "3.5.2"
  },
  "toc": {
   "colors": {
    "hover_highlight": "#DAA520",
    "running_highlight": "#FF0000",
    "selected_highlight": "#FFD700"
   },
   "moveMenuLeft": true,
   "nav_menu": {
    "height": "11px",
    "width": "251px"
   },
   "navigate_menu": true,
   "number_sections": true,
   "sideBar": true,
   "threshold": 4,
   "toc_cell": true,
   "toc_position": {
    "height": "420px",
    "left": "0px",
    "right": "951px",
    "top": "70px",
    "width": "62px"
   },
   "toc_section_display": "block",
   "toc_window_display": true
  },
  "widgets": {
   "state": {
    "019d944cd7ee4bef83bd832c33e4e211": {
     "views": [
      {
       "cell_index": 12
      }
     ]
    },
    "07be34f5f5c942519bd8df2396ed896a": {
     "views": [
      {
       "cell_index": 15
      }
     ]
    },
    "17780dc4856c48429bb2c4622233c355": {
     "views": [
      {
       "cell_index": 17
      }
     ]
    },
    "3e71c829c45a47bdb786a74da573f952": {
     "views": [
      {
       "cell_index": 15
      }
     ]
    },
    "42b366fe3a2949dcb5dda4a08d512092": {
     "views": [
      {
       "cell_index": 12
      }
     ]
    },
    "4985f5105d43408d85cb978e1afe7693": {
     "views": [
      {
       "cell_index": 15
      }
     ]
    },
    "4f6ab9dc81ff4f9698774ea5ba39c4a1": {
     "views": [
      {
       "cell_index": 14
      }
     ]
    },
    "5841ed5259414e04aa307ac9735f85cb": {
     "views": [
      {
       "cell_index": 11
      }
     ]
    },
    "594d0c7ab1af4fd490949f00861ccc01": {
     "views": [
      {
       "cell_index": 13
      }
     ]
    },
    "5c5a06ea0c2c49a5adcbb8375df9396d": {
     "views": [
      {
       "cell_index": 9
      }
     ]
    },
    "7209655932184f05abcbc28f148dabc0": {
     "views": [
      {
       "cell_index": 15
      }
     ]
    },
    "8379fb92a9ed4806b206221fc5cc4ab1": {
     "views": [
      {
       "cell_index": 15
      }
     ]
    },
    "8faa0062a460447a961544d9eef825cd": {
     "views": [
      {
       "cell_index": 12
      }
     ]
    },
    "9a327ac5f67a4b238f7261fbec34439f": {
     "views": [
      {
       "cell_index": 12
      }
     ]
    },
    "9e19918688a940288cfcc503e6c38d49": {
     "views": [
      {
       "cell_index": 15
      }
     ]
    },
    "a217a4bebe644dc0a22c081dce819d56": {
     "views": [
      {
       "cell_index": 10
      }
     ]
    },
    "ae13bbbee3ad4391b76416cc6b418caa": {
     "views": [
      {
       "cell_index": 12
      }
     ]
    },
    "b45b15881a4343cd80c4ced682ab178b": {
     "views": [
      {
       "cell_index": 7
      }
     ]
    }
   },
   "version": "1.2.0"
  }
 },
 "nbformat": 4,
 "nbformat_minor": 2
}
